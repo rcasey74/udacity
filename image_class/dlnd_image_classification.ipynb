{
 "cells": [
  {
   "cell_type": "markdown",
   "metadata": {
    "collapsed": true
   },
   "source": [
    "# Image Classification\n",
    "In this project, you'll classify images from the [CIFAR-10 dataset](https://www.cs.toronto.edu/~kriz/cifar.html).  The dataset consists of airplanes, dogs, cats, and other objects. You'll preprocess the images, then train a convolutional neural network on all the samples. The images need to be normalized and the labels need to be one-hot encoded.  You'll get to apply what you learned and build a convolutional, max pooling, dropout, and fully connected layers.  At the end, you'll get to see your neural network's predictions on the sample images.\n",
    "## Get the Data\n",
    "Run the following cell to download the [CIFAR-10 dataset for python](https://www.cs.toronto.edu/~kriz/cifar-10-python.tar.gz)."
   ]
  },
  {
   "cell_type": "code",
   "execution_count": 17,
   "metadata": {},
   "outputs": [
    {
     "name": "stdout",
     "output_type": "stream",
     "text": [
      "All files found!\n"
     ]
    }
   ],
   "source": [
    "\"\"\"\n",
    "DON'T MODIFY ANYTHING IN THIS CELL THAT IS BELOW THIS LINE\n",
    "\"\"\"\n",
    "from urllib.request import urlretrieve\n",
    "from os.path import isfile, isdir\n",
    "from tqdm import tqdm\n",
    "import problem_unittests as tests\n",
    "import tarfile\n",
    "\n",
    "cifar10_dataset_folder_path = 'cifar-10-batches-py'\n",
    "\n",
    "# Use Floyd's cifar-10 dataset if present\n",
    "floyd_cifar10_location = '/cifar/cifar-10-python.tar.gz'\n",
    "if isfile(floyd_cifar10_location):\n",
    "    tar_gz_path = floyd_cifar10_location\n",
    "else:\n",
    "    tar_gz_path = 'cifar-10-python.tar.gz'\n",
    "\n",
    "class DLProgress(tqdm):\n",
    "    last_block = 0\n",
    "\n",
    "    def hook(self, block_num=1, block_size=1, total_size=None):\n",
    "        self.total = total_size\n",
    "        self.update((block_num - self.last_block) * block_size)\n",
    "        self.last_block = block_num\n",
    "\n",
    "if not isfile(tar_gz_path):\n",
    "    with DLProgress(unit='B', unit_scale=True, miniters=1, desc='CIFAR-10 Dataset') as pbar:\n",
    "        urlretrieve(\n",
    "            'https://www.cs.toronto.edu/~kriz/cifar-10-python.tar.gz',\n",
    "            tar_gz_path,\n",
    "            pbar.hook)\n",
    "\n",
    "if not isdir(cifar10_dataset_folder_path):\n",
    "    with tarfile.open(tar_gz_path) as tar:\n",
    "        tar.extractall()\n",
    "        tar.close()\n",
    "\n",
    "\n",
    "tests.test_folder_path(cifar10_dataset_folder_path)"
   ]
  },
  {
   "cell_type": "markdown",
   "metadata": {},
   "source": [
    "## Explore the Data\n",
    "The dataset is broken into batches to prevent your machine from running out of memory.  The CIFAR-10 dataset consists of 5 batches, named `data_batch_1`, `data_batch_2`, etc.. Each batch contains the labels and images that are one of the following:\n",
    "* airplane\n",
    "* automobile\n",
    "* bird\n",
    "* cat\n",
    "* deer\n",
    "* dog\n",
    "* frog\n",
    "* horse\n",
    "* ship\n",
    "* truck\n",
    "\n",
    "Understanding a dataset is part of making predictions on the data.  Play around with the code cell below by changing the `batch_id` and `sample_id`. The `batch_id` is the id for a batch (1-5). The `sample_id` is the id for a image and label pair in the batch.\n",
    "\n",
    "Ask yourself \"What are all possible labels?\", \"What is the range of values for the image data?\", \"Are the labels in order or random?\".  Answers to questions like these will help you preprocess the data and end up with better predictions."
   ]
  },
  {
   "cell_type": "code",
   "execution_count": 18,
   "metadata": {},
   "outputs": [
    {
     "name": "stdout",
     "output_type": "stream",
     "text": [
      "\n",
      "Stats of batch 3:\n",
      "Samples: 10000\n",
      "Label Counts: {0: 994, 1: 1042, 2: 965, 3: 997, 4: 990, 5: 1029, 6: 978, 7: 1015, 8: 961, 9: 1029}\n",
      "First 20 Labels: [8, 5, 0, 6, 9, 2, 8, 3, 6, 2, 7, 4, 6, 9, 0, 0, 7, 3, 7, 2]\n",
      "\n",
      "Example of Image 2:\n",
      "Image - Min Value: 21 Max Value: 255\n",
      "Image - Shape: (32, 32, 3)\n",
      "Label - Label Id: 0 Name: airplane\n"
     ]
    },
    {
     "data": {
      "image/png": "[encoded data removed]",
      "text/plain": [
       "<matplotlib.figure.Figure at 0x7f33d9ddb3c8>"
      ]
     },
     "metadata": {
      "image/png": {
       "height": 250,
       "width": 253
      }
     },
     "output_type": "display_data"
    }
   ],
   "source": [
    "%matplotlib inline\n",
    "%config InlineBackend.figure_format = 'retina'\n",
    "\n",
    "import helper\n",
    "import numpy as np\n",
    "\n",
    "# Explore the dataset\n",
    "batch_id = 3\n",
    "sample_id = 2\n",
    "helper.display_stats(cifar10_dataset_folder_path, batch_id, sample_id)"
   ]
  },
  {
   "cell_type": "markdown",
   "metadata": {},
   "source": [
    "## Implement Preprocess Functions\n",
    "### Normalize\n",
    "In the cell below, implement the `normalize` function to take in image data, `x`, and return it as a normalized Numpy array. The values should be in the range of 0 to 1, inclusive.  The return object should be the same shape as `x`."
   ]
  },
  {
   "cell_type": "code",
   "execution_count": 19,
   "metadata": {},
   "outputs": [
    {
     "name": "stdout",
     "output_type": "stream",
     "text": [
      "Tests Passed\n"
     ]
    }
   ],
   "source": [
    "def normalize(x):\n",
    "    \"\"\"\n",
    "    Normalize a list of sample image data in the range of 0 to 1\n",
    "    : x: List of image data.  The image shape is (32, 32, 3)\n",
    "    : return: Numpy array of normalize data\n",
    "    \"\"\"\n",
    "    # TODO: Implement Function\n",
    "    # Have to work across each channel\n",
    "    # Will be something like:\n",
    "    pix_max = 255\n",
    "    pix_min = 0\n",
    "    \n",
    "    return x / ( pix_max - pix_min )\n",
    "\n",
    "\n",
    "\"\"\"\n",
    "DON'T MODIFY ANYTHING IN THIS CELL THAT IS BELOW THIS LINE\n",
    "\"\"\"\n",
    "tests.test_normalize(normalize)"
   ]
  },
  {
   "cell_type": "markdown",
   "metadata": {},
   "source": [
    "### One-hot encode\n",
    "Just like the previous code cell, you'll be implementing a function for preprocessing.  This time, you'll implement the `one_hot_encode` function. The input, `x`, are a list of labels.  Implement the function to return the list of labels as One-Hot encoded Numpy array.  The possible values for labels are 0 to 9. The one-hot encoding function should return the same encoding for each value between each call to `one_hot_encode`.  Make sure to save the map of encodings outside the function.\n",
    "\n",
    "Hint: Don't reinvent the wheel."
   ]
  },
  {
   "cell_type": "code",
   "execution_count": 20,
   "metadata": {},
   "outputs": [
    {
     "name": "stdout",
     "output_type": "stream",
     "text": [
      "Tests Passed\n"
     ]
    }
   ],
   "source": [
    "def one_hot_encode(x):\n",
    "    \"\"\"\n",
    "    One hot encode a list of sample labels. Return a one-hot encoded vector for each label.\n",
    "    : x: List of sample Labels\n",
    "    : return: Numpy array of one-hot encoded labels\n",
    "    \"\"\"\n",
    "    # TODO: Implement Function\n",
    "    # one-hot encoding:  label binarizer from scikitlearn, preprocessing\n",
    "    num_labels = 10\n",
    "    import numpy as np\n",
    "    # Matrix\n",
    "    ident_mat = np.eye(num_labels, dtype=np.float32)\n",
    "    # Return column vector/array\n",
    "    return ident_mat[x]\n",
    "\n",
    "\n",
    "\"\"\"\n",
    "DON'T MODIFY ANYTHING IN THIS CELL THAT IS BELOW THIS LINE\n",
    "\"\"\"\n",
    "tests.test_one_hot_encode(one_hot_encode)"
   ]
  },
  {
   "cell_type": "markdown",
   "metadata": {},
   "source": [
    "### Randomize Data\n",
    "As you saw from exploring the data above, the order of the samples are randomized.  It doesn't hurt to randomize it again, but you don't need to for this dataset."
   ]
  },
  {
   "cell_type": "markdown",
   "metadata": {},
   "source": [
    "## Preprocess all the data and save it\n",
    "Running the code cell below will preprocess all the CIFAR-10 data and save it to file. The code below also uses 10% of the training data for validation."
   ]
  },
  {
   "cell_type": "code",
   "execution_count": 21,
   "metadata": {
    "collapsed": true
   },
   "outputs": [],
   "source": [
    "\"\"\"\n",
    "DON'T MODIFY ANYTHING IN THIS CELL\n",
    "\"\"\"\n",
    "# Preprocess Training, Validation, and Testing Data\n",
    "helper.preprocess_and_save_data(cifar10_dataset_folder_path, normalize, one_hot_encode)"
   ]
  },
  {
   "cell_type": "markdown",
   "metadata": {},
   "source": [
    "# Check Point\n",
    "This is your first checkpoint.  If you ever decide to come back to this notebook or have to restart the notebook, you can start from here.  The preprocessed data has been saved to disk."
   ]
  },
  {
   "cell_type": "code",
   "execution_count": 22,
   "metadata": {
    "collapsed": true
   },
   "outputs": [],
   "source": [
    "\"\"\"\n",
    "DON'T MODIFY ANYTHING IN THIS CELL\n",
    "\"\"\"\n",
    "import pickle\n",
    "import problem_unittests as tests\n",
    "import helper\n",
    "\n",
    "# Load the Preprocessed Validation data\n",
    "valid_features, valid_labels = pickle.load(open('preprocess_validation.p', mode='rb'))"
   ]
  },
  {
   "cell_type": "markdown",
   "metadata": {},
   "source": [
    "## Build the network\n",
    "For the neural network, you'll build each layer into a function.  Most of the code you've seen has been outside of functions. To test your code more thoroughly, we require that you put each layer in a function.  This allows us to give you better feedback and test for simple mistakes using our unittests before you submit your project.\n",
    "\n",
    ">**Note:** If you're finding it hard to dedicate enough time for this course each week, we've provided a small shortcut to this part of the project. In the next couple of problems, you'll have the option to use classes from the [TensorFlow Layers](https://www.tensorflow.org/api_docs/python/tf/layers) or [TensorFlow Layers (contrib)](https://www.tensorflow.org/api_guides/python/contrib.layers) packages to build each layer, except the layers you build in the \"Convolutional and Max Pooling Layer\" section.  TF Layers is similar to Keras's and TFLearn's abstraction to layers, so it's easy to pickup.\n",
    "\n",
    ">However, if you would like to get the most out of this course, try to solve all the problems _without_ using anything from the TF Layers packages. You **can** still use classes from other packages that happen to have the same name as ones you find in TF Layers! For example, instead of using the TF Layers version of the `conv2d` class, [tf.layers.conv2d](https://www.tensorflow.org/api_docs/python/tf/layers/conv2d), you would want to use the TF Neural Network version of `conv2d`, [tf.nn.conv2d](https://www.tensorflow.org/api_docs/python/tf/nn/conv2d). \n",
    "\n",
    "Let's begin!\n",
    "\n",
    "### Input\n",
    "The neural network needs to read the image data, one-hot encoded labels, and dropout keep probability. Implement the following functions\n",
    "* Implement `neural_net_image_input`\n",
    " * Return a [TF Placeholder](https://www.tensorflow.org/api_docs/python/tf/placeholder)\n",
    " * Set the shape using `image_shape` with batch size set to `None`.\n",
    " * Name the TensorFlow placeholder \"x\" using the TensorFlow `name` parameter in the [TF Placeholder](https://www.tensorflow.org/api_docs/python/tf/placeholder).\n",
    "* Implement `neural_net_label_input`\n",
    " * Return a [TF Placeholder](https://www.tensorflow.org/api_docs/python/tf/placeholder)\n",
    " * Set the shape using `n_classes` with batch size set to `None`.\n",
    " * Name the TensorFlow placeholder \"y\" using the TensorFlow `name` parameter in the [TF Placeholder](https://www.tensorflow.org/api_docs/python/tf/placeholder).\n",
    "* Implement `neural_net_keep_prob_input`\n",
    " * Return a [TF Placeholder](https://www.tensorflow.org/api_docs/python/tf/placeholder) for dropout keep probability.\n",
    " * Name the TensorFlow placeholder \"keep_prob\" using the TensorFlow `name` parameter in the [TF Placeholder](https://www.tensorflow.org/api_docs/python/tf/placeholder).\n",
    "\n",
    "These names will be used at the end of the project to load your saved model.\n",
    "\n",
    "Note: `None` for shapes in TensorFlow allow for a dynamic size."
   ]
  },
  {
   "cell_type": "code",
   "execution_count": 23,
   "metadata": {},
   "outputs": [
    {
     "name": "stdout",
     "output_type": "stream",
     "text": [
      "Image Input Tests Passed.\n",
      "Label Input Tests Passed.\n",
      "Keep Prob Tests Passed.\n"
     ]
    }
   ],
   "source": [
    "import tensorflow as tf\n",
    "\n",
    "def neural_net_image_input(image_shape):\n",
    "    \"\"\"\n",
    "    Return a Tensor for a batch of image input\n",
    "    : image_shape: Shape of the images\n",
    "    : return: Tensor for image input.\n",
    "    \"\"\"\n",
    "    # TODO: Implement Function\n",
    "    return tf.placeholder( tf.float32, shape =[ None, *image_shape ], name = \"x\" )\n",
    "\n",
    "\n",
    "def neural_net_label_input(n_classes):\n",
    "    \"\"\"\n",
    "    Return a Tensor for a batch of label input\n",
    "    : n_classes: Number of classes\n",
    "    : return: Tensor for label input.\n",
    "    \"\"\"\n",
    "    # TODO: Implement Function\n",
    "    return tf.placeholder( tf.float32, shape = [ None, n_classes ], name = \"y\")\n",
    "\n",
    "\n",
    "def neural_net_keep_prob_input():\n",
    "    \"\"\"\n",
    "    Return a Tensor for keep probability\n",
    "    : return: Tensor for keep probability.\n",
    "    \"\"\"\n",
    "    return tf.placeholder( tf.float32, shape = None, name = \"keep_prob\")\n",
    "\n",
    "\n",
    "\"\"\"\n",
    "DON'T MODIFY ANYTHING IN THIS CELL THAT IS BELOW THIS LINE\n",
    "\"\"\"\n",
    "tf.reset_default_graph()\n",
    "tests.test_nn_image_inputs(neural_net_image_input)\n",
    "tests.test_nn_label_inputs(neural_net_label_input)\n",
    "tests.test_nn_keep_prob_inputs(neural_net_keep_prob_input)"
   ]
  },
  {
   "cell_type": "markdown",
   "metadata": {},
   "source": [
    "### Convolution and Max Pooling Layer\n",
    "Convolution layers have a lot of success with images. For this code cell, you should implement the function `conv2d_maxpool` to apply convolution then max pooling:\n",
    "* Create the weight and bias using `conv_ksize`, `conv_num_outputs` and the shape of `x_tensor`.\n",
    "* Apply a convolution to `x_tensor` using weight and `conv_strides`.\n",
    " * We recommend you use same padding, but you're welcome to use any padding.\n",
    "* Add bias\n",
    "* Add a nonlinear activation to the convolution.\n",
    "* Apply Max Pooling using `pool_ksize` and `pool_strides`.\n",
    " * We recommend you use same padding, but you're welcome to use any padding.\n",
    "\n",
    "**Note:** You **can't** use [TensorFlow Layers](https://www.tensorflow.org/api_docs/python/tf/layers) or [TensorFlow Layers (contrib)](https://www.tensorflow.org/api_guides/python/contrib.layers) for **this** layer, but you can still use TensorFlow's [Neural Network](https://www.tensorflow.org/api_docs/python/tf/nn) package. You may still use the shortcut option for all the **other** layers."
   ]
  },
  {
   "cell_type": "code",
   "execution_count": 31,
   "metadata": {},
   "outputs": [
    {
     "name": "stdout",
     "output_type": "stream",
     "text": [
      "Tests Passed\n"
     ]
    }
   ],
   "source": [
    "def conv2d_maxpool(x_tensor, conv_num_outputs, conv_ksize, conv_strides, pool_ksize, pool_strides):\n",
    "    \"\"\"\n",
    "    Apply convolution then max pooling to x_tensor\n",
    "    :param x_tensor:          TensorFlow Tensor\n",
    "    :param conv_num_outputs:  Number of outputs for the convolutional layer ... i.e. filter / output depth\n",
    "    :param conv_ksize:        kernel size 2-D Tuple for the convolutional layer ... filter size\n",
    "    :param conv_strides:      Stride 2-D Tuple for convolution\n",
    "    :param pool_ksize:        kernel size 2-D Tuple for pool\n",
    "    :param pool_strides:      Stride 2-D Tuple for pool\n",
    "    : return:                 A tensor that represents convolution and max pooling of x_tensor\n",
    "    \"\"\"\n",
    "    # Filter variables and constants\n",
    "    INPUT_HEIGHT  = x_tensor.get_shape().as_list()[ 1 ]\n",
    "    INPUT_WIDTH   = x_tensor.get_shape().as_list()[ 2 ]\n",
    "    INPUT_DEPTH   = x_tensor.get_shape().as_list()[ 3 ]\n",
    "    FILTER_WIDTH  = conv_ksize[ 0 ]  # [(W−F+2P)/S] + 1\n",
    "    FILTER_HEIGHT = conv_ksize[ 1 ]  # [(H-F+2P)/S] + 1\n",
    "        \n",
    "    OUTPUT_DEPTH  = conv_num_outputs   # number of filters\n",
    "    BIAS_SIZE     = conv_num_outputs  # 10 biases are same size as number of labels\n",
    "    \n",
    "    #print( \"INPUT_HEIGHT  = \", INPUT_HEIGHT)\n",
    "    #print( \"INPUT_WIDTH   = \", INPUT_WIDTH)\n",
    "    #print( \"INPUT_DEPTH   = \", INPUT_DEPTH)\n",
    "    #print( \"FILTER_HEIGHT = \", FILTER_HEIGHT)\n",
    "    #print( \"FILTER_WIDTH  = \", FILTER_WIDTH)\n",
    "    #print( \"OUTPUT_DEPTH  = \", OUTPUT_DEPTH)\n",
    "    #print( \"BIAS_SIZE     = \", BIAS_SIZE)\n",
    "     \n",
    "    # Weights and biases:  tf.Variable()\n",
    "    # don't use all zeros or ones!\n",
    "    weights = tf.Variable( tf.truncated_normal( [ FILTER_WIDTH, FILTER_HEIGHT, int(INPUT_DEPTH), OUTPUT_DEPTH ])) \n",
    "    #print( \"passed weight assignment\")\n",
    "    \n",
    "    # tf.nn.conv2d(\n",
    "    #   input, \n",
    "    #   filter, \n",
    "    #   strides, \n",
    "    #   padding, \n",
    "    #   gpu, \n",
    "    #   data format, \n",
    "    #   name )\n",
    "    conv_layer = tf.nn.conv2d( x_tensor, \n",
    "                               weights, \n",
    "                               strides=[1, conv_strides[0], conv_strides[1], 1], \n",
    "                               padding='SAME')\n",
    "    #print( \"passed tf.nn.conv2d stage\")\n",
    "    \n",
    "    # Bias\n",
    "    bias = tf.Variable( tf.zeros( BIAS_SIZE ))\n",
    "    conv_layer = tf.nn.bias_add( conv_layer, bias)\n",
    "    #print( \"passed tf.nn.bias_add stage\")\n",
    "    \n",
    "    conv_layer = tf.nn.relu( conv_layer )\n",
    "    #print( \"passed tf.nn.relu stage\")\n",
    "    \n",
    "    # Max pooling\n",
    "    # max_pool( value,  \n",
    "    #           ksize, 1d int of 4 elements,  The size of the window for each dimension of the input tensor.\n",
    "    #           strides,\n",
    "    #           padding,\n",
    "    #           data_format='NHWC',\n",
    "    #           name=None )\n",
    "\n",
    "    my_ksize  =[1, FILTER_WIDTH,    FILTER_HEIGHT,   1]\n",
    "    my_strides=[1, pool_strides[0], pool_strides[1], 1]\n",
    "    \n",
    "    #print( \"Max pool ksize   = \", my_ksize)\n",
    "    #print( \"Max pool strides = \", my_strides)\n",
    "    \n",
    "    conv_layer = tf.nn.max_pool( conv_layer,\n",
    "                                 ksize = my_ksize,\n",
    "                                 strides= my_strides, \n",
    "                                 padding='SAME')\n",
    "    #print( \"passed tf.nn.max_pool stage\")   \n",
    "    \n",
    "    return conv_layer\n",
    "\n",
    "\"\"\"\n",
    "DON'T MODIFY ANYTHING IN THIS CELL THAT IS BELOW THIS LINE\n",
    "\"\"\"\n",
    "tests.test_con_pool(conv2d_maxpool)"
   ]
  },
  {
   "cell_type": "markdown",
   "metadata": {},
   "source": [
    "### Flatten Layer\n",
    "Implement the `flatten` function to change the dimension of `x_tensor` from a 4-D tensor to a 2-D tensor.  The output should be the shape (*Batch Size*, *Flattened Image Size*). Shortcut option: you can use classes from the [TensorFlow Layers](https://www.tensorflow.org/api_docs/python/tf/layers) or [TensorFlow Layers (contrib)](https://www.tensorflow.org/api_guides/python/contrib.layers) packages for this layer. For more of a challenge, only use other TensorFlow packages."
   ]
  },
  {
   "cell_type": "code",
   "execution_count": 32,
   "metadata": {},
   "outputs": [
    {
     "name": "stdout",
     "output_type": "stream",
     "text": [
      "Tests Passed\n"
     ]
    }
   ],
   "source": [
    "def flatten(x_tensor):\n",
    "    \"\"\"\n",
    "    Flatten x_tensor to (Batch Size, Flattened Image Size)\n",
    "    : x_tensor: A tensor of size (Batch Size, ...), where ... are the image dimensions.\n",
    "    : return: A tensor of size (Batch Size, Flattened Image Size).\n",
    "    \"\"\"\n",
    "    # TODO: Implement Function\n",
    "    # 4d --> 2d\n",
    "    #print( \"Input shape = \", x_tensor.get_shape().as_list() ) --> returns [None, 10, 30, 6]\n",
    "    INPUT_HEIGHT  = x_tensor.get_shape().as_list()[ 1 ]\n",
    "    INPUT_WIDTH   = x_tensor.get_shape().as_list()[ 2 ]\n",
    "    INPUT_DEPTH   = x_tensor.get_shape().as_list()[ 3 ]\n",
    "    #print( \"INPUT_HEIGHT  = \", INPUT_HEIGHT)\n",
    "    #print( \"INPUT_WIDTH   = \", INPUT_WIDTH)\n",
    "    #print( \"INPUT_DEPTH   = \", INPUT_DEPTH)\n",
    "    \n",
    "    # Initial error on my part:  1st parameter of shape was \"None\" instead of \"-1\"\n",
    "    flat_out =  tf.reshape( x_tensor, shape = [ -1, INPUT_HEIGHT * INPUT_WIDTH * INPUT_DEPTH ] )\n",
    "    \n",
    "    return flat_out\n",
    "\n",
    "\n",
    "\"\"\"\n",
    "DON'T MODIFY ANYTHING IN THIS CELL THAT IS BELOW THIS LINE\n",
    "\"\"\"\n",
    "tests.test_flatten(flatten)"
   ]
  },
  {
   "cell_type": "markdown",
   "metadata": {},
   "source": [
    "### Fully-Connected Layer\n",
    "Implement the `fully_conn` function to apply a fully connected layer to `x_tensor` with the shape (*Batch Size*, *num_outputs*). Shortcut option: you can use classes from the [TensorFlow Layers](https://www.tensorflow.org/api_docs/python/tf/layers) or [TensorFlow Layers (contrib)](https://www.tensorflow.org/api_guides/python/contrib.layers) packages for this layer. For more of a challenge, only use other TensorFlow packages."
   ]
  },
  {
   "cell_type": "code",
   "execution_count": 33,
   "metadata": {},
   "outputs": [
    {
     "name": "stdout",
     "output_type": "stream",
     "text": [
      "Tests Passed\n"
     ]
    }
   ],
   "source": [
    "def fully_conn(x_tensor, num_outputs):\n",
    "    \"\"\"\n",
    "    Apply a fully connected layer to x_tensor using weight and bias\n",
    "    : x_tensor: A 2-D tensor where the first dimension is batch size.\n",
    "    : num_outputs: The number of output that the new tensor should be.\n",
    "    : return: A 2-D tensor where the second dimension is num_outputs.\n",
    "    \"\"\"\n",
    "    from tensorflow.contrib.layers import fully_connected\n",
    "    full_out = fully_connected( x_tensor, num_outputs)\n",
    "    return full_out\n",
    "\n",
    "\n",
    "\"\"\"\n",
    "DON'T MODIFY ANYTHING IN THIS CELL THAT IS BELOW THIS LINE\n",
    "\"\"\"\n",
    "tests.test_fully_conn(fully_conn)"
   ]
  },
  {
   "cell_type": "markdown",
   "metadata": {},
   "source": [
    "### Output Layer\n",
    "Implement the `output` function to apply a fully connected layer to `x_tensor` with the shape (*Batch Size*, *num_outputs*). Shortcut option: you can use classes from the [TensorFlow Layers](https://www.tensorflow.org/api_docs/python/tf/layers) or [TensorFlow Layers (contrib)](https://www.tensorflow.org/api_guides/python/contrib.layers) packages for this layer. For more of a challenge, only use other TensorFlow packages.\n",
    "\n",
    "**Note:** Activation, softmax, or cross entropy should **not** be applied to this."
   ]
  },
  {
   "cell_type": "code",
   "execution_count": 41,
   "metadata": {},
   "outputs": [
    {
     "name": "stdout",
     "output_type": "stream",
     "text": [
      "Tests Passed\n"
     ]
    }
   ],
   "source": [
    "def output(x_tensor, num_outputs):\n",
    "    \"\"\"\n",
    "    Apply a output layer to x_tensor using weight and bias\n",
    "    : x_tensor: A 2-D tensor where the first dimension is batch size.\n",
    "    : num_outputs: The number of output that the new tensor should be.\n",
    "    : return: A 2-D tensor where the second dimension is num_outputs.\n",
    "    \"\"\"\n",
    "    # neeed to apply def fully_conn(x_tensor, num_outputs):\n",
    "    x_shape = x_tensor.get_shape().as_list()[1]\n",
    "    weights = tf.Variable( tf.truncated_normal( shape=[x_shape, num_outputs], \n",
    "                                             mean=0.0,\n",
    "                                             stddev=0.05  ) )\n",
    "    w8_result = tf.matmul( x_tensor, weights )\n",
    "    \n",
    "    biases  = tf.Variable( tf.Variable(tf.zeros( num_outputs )))\n",
    "    out = tf.nn.bias_add( w8_result, biases )                          \n",
    "    \n",
    "    return out\n",
    "\n",
    "\n",
    "\"\"\"\n",
    "DON'T MODIFY ANYTHING IN THIS CELL THAT IS BELOW THIS LINE\n",
    "\"\"\"\n",
    "tests.test_output(output)"
   ]
  },
  {
   "cell_type": "markdown",
   "metadata": {},
   "source": [
    "### Create Convolutional Model\n",
    "Implement the function `conv_net` to create a convolutional neural network model. The function takes in a batch of images, `x`, and outputs logits.  Use the layers you created above to create this model:\n",
    "\n",
    "* Apply 1, 2, or 3 Convolution and Max Pool layers\n",
    "* Apply a Flatten Layer\n",
    "* Apply 1, 2, or 3 Fully Connected Layers\n",
    "* Apply an Output Layer\n",
    "* Return the output\n",
    "* Apply [TensorFlow's Dropout](https://www.tensorflow.org/api_docs/python/tf/nn/dropout) to one or more layers in the model using `keep_prob`. "
   ]
  },
  {
   "cell_type": "code",
   "execution_count": 42,
   "metadata": {},
   "outputs": [
    {
     "name": "stdout",
     "output_type": "stream",
     "text": [
      "Neural Network Built!\n"
     ]
    }
   ],
   "source": [
    "def conv_net(x, keep_prob):\n",
    "    \"\"\"\n",
    "    Create a convolutional neural network model\n",
    "    : x: Placeholder tensor that holds image data.\n",
    "    : keep_prob: Placeholder tensor that hold dropout keep probability.\n",
    "    : return: Tensor that represents logits\n",
    "    \"\"\"\n",
    "    # Input images:  32x32x3\n",
    "    # Second layer:  16x16x6?\n",
    "    # Third layer:    8x8x12?\n",
    "    # Apply 1, 2, or 3 Convolution and Max Pool layers\n",
    "    #    Play around with different number of outputs, kernel size and stride\n",
    "    # Function Definition from Above:\n",
    "    #    conv2d_maxpool(x_tensor, conv_num_outputs, conv_ksize, conv_strides, pool_ksize, pool_strides)\n",
    "    NUM_OUTPUTS  = 16\n",
    "    FILTER_SIZE  = [ 2, 2 ]    # 2x2, 3x3, 4x4   this should change to make the image narrower\n",
    "    # H_out = [(H-F+2P)/S] + 1.\n",
    "    # ( 32 - F + 2 * 1 ) / 2 + 1 = 16 ==> F = 4!\n",
    "    # goal:  16 x 16 x 6 output size\n",
    "    STRIDES      = [ 1, 1 ]  \n",
    "    POOL_KSIZE   = [ 2, 2 ]\n",
    "    POOL_STRIDES = [ 1, 1 ]\n",
    "    \n",
    "    cnet_model1 = conv2d_maxpool(x, \n",
    "                                NUM_OUTPUTS, \n",
    "                                FILTER_SIZE, \n",
    "                                STRIDES, \n",
    "                                POOL_KSIZE, \n",
    "                                POOL_STRIDES)\n",
    "    \n",
    "    cnet_model1 = tf.nn.dropout( cnet_model1, keep_prob )\n",
    "    \n",
    "    # Next layer\n",
    "   # goal:  8x8x12 output size\n",
    "   # ( 16 - F + 2 * 1 ) / 2 + 1 = 8\n",
    "    FILTER_SIZE  = [ 3, 3 ]\n",
    "    STRIDES      = [ 2, 2 ]  \n",
    "    POOL_KSIZE   = [ 2, 2 ]\n",
    "    POOL_STRIDES = [ 2, 2 ]\n",
    "    NUM_OUTPUTS  = 64\n",
    "    cnet_model2 = conv2d_maxpool( cnet_model1,\n",
    "                                  NUM_OUTPUTS, \n",
    "                                  FILTER_SIZE, \n",
    "                                  STRIDES, \n",
    "                                  POOL_KSIZE, \n",
    "                                  POOL_STRIDES)\n",
    "    \n",
    "    cnet_model2 = tf.nn.dropout( cnet_model2, keep_prob )    \n",
    "    \n",
    "    # Apply a Flatten Layer\n",
    "    # Function Definition from Above:\n",
    "    #   flatten(x_tensor)\n",
    "    cnet_model2 = flatten( cnet_model2 )\n",
    "\n",
    "    # Apply 1, 2, or 3 Fully Connected Layers\n",
    "    #    Play around with different number of outputs\n",
    "    # Function Definition from Above:\n",
    "    #   fully_conn(x_tensor, num_outputs)\n",
    "    NUM_OUTPUTS = 512\n",
    "    fc1 = fully_conn( cnet_model2, \n",
    "                      NUM_OUTPUTS )\n",
    "    \n",
    "    fc1 = tf.nn.dropout( fc1, \n",
    "                         keep_prob )\n",
    "    \n",
    "    NUM_OUTPUTS = 256\n",
    "    \n",
    "    # Next layer\n",
    "    fc2 = fully_conn( fc1, \n",
    "                      NUM_OUTPUTS )\n",
    "    \n",
    "    fc2 = tf.nn.dropout( fc2, \n",
    "                         keep_prob )\n",
    "    \n",
    "    \n",
    "    NUM_OUTPUTS = 128\n",
    "    fc3 = fully_conn( fc2,\n",
    "                      NUM_OUTPUTS )\n",
    "    fc3 = tf.nn.dropout( fc3,\n",
    "                         keep_prob )\n",
    "    \n",
    "    # Apply an Output Layer\n",
    "    #    Set this to the number of classes\n",
    "    # Function Definition from Above:\n",
    "    #   output(x_tensor, num_outputs)\n",
    "    NUM_OUTPUTS = 10\n",
    "    out = output( fc3, \n",
    "                  NUM_OUTPUTS )\n",
    "    \n",
    "    # return output\n",
    "    return out\n",
    "\n",
    "\n",
    "\"\"\"\n",
    "DON'T MODIFY ANYTHING IN THIS CELL THAT IS BELOW THIS LINE\n",
    "\"\"\"\n",
    "\n",
    "##############################\n",
    "## Build the Neural Network ##\n",
    "##############################\n",
    "\n",
    "# Remove previous weights, bias, inputs, etc..\n",
    "tf.reset_default_graph()\n",
    "\n",
    "# Inputs\n",
    "x = neural_net_image_input((32, 32, 3))\n",
    "y = neural_net_label_input(10)\n",
    "keep_prob = neural_net_keep_prob_input()\n",
    "\n",
    "# Model\n",
    "logits = conv_net(x, keep_prob)\n",
    "\n",
    "# Name logits Tensor, so that is can be loaded from disk after training\n",
    "logits = tf.identity(logits, name='logits')\n",
    "\n",
    "# Loss and Optimizer\n",
    "cost = tf.reduce_mean(tf.nn.softmax_cross_entropy_with_logits(logits=logits, labels=y))\n",
    "optimizer = tf.train.AdamOptimizer().minimize(cost)\n",
    "\n",
    "# Accuracy\n",
    "correct_pred = tf.equal(tf.argmax(logits, 1), tf.argmax(y, 1))\n",
    "accuracy = tf.reduce_mean(tf.cast(correct_pred, tf.float32), name='accuracy')\n",
    "\n",
    "tests.test_conv_net(conv_net)"
   ]
  },
  {
   "cell_type": "markdown",
   "metadata": {},
   "source": [
    "## Train the Neural Network\n",
    "### Single Optimization\n",
    "Implement the function `train_neural_network` to do a single optimization.  The optimization should use `optimizer` to optimize in `session` with a `feed_dict` of the following:\n",
    "* `x` for image input\n",
    "* `y` for labels\n",
    "* `keep_prob` for keep probability for dropout\n",
    "\n",
    "This function will be called for each batch, so `tf.global_variables_initializer()` has already been called.\n",
    "\n",
    "Note: Nothing needs to be returned. This function is only optimizing the neural network."
   ]
  },
  {
   "cell_type": "code",
   "execution_count": 43,
   "metadata": {},
   "outputs": [
    {
     "name": "stdout",
     "output_type": "stream",
     "text": [
      "Tests Passed\n"
     ]
    }
   ],
   "source": [
    "def train_neural_network(session, optimizer, keep_probability, feature_batch, label_batch):\n",
    "    \"\"\"\n",
    "    Optimize the session on a batch of images and labels\n",
    "    : session:          Current TensorFlow session\n",
    "    : optimizer:        TensorFlow optimizer function\n",
    "    : keep_probability: keep probability\n",
    "    : feature_batch:    Batch of Numpy image data\n",
    "    : label_batch:      Batch of Numpy label data\n",
    "    \"\"\"\n",
    "    session.run(optimizer, \n",
    "                feed_dict={ x: feature_batch, y: label_batch,\n",
    "                keep_prob: keep_probability})\n",
    "\n",
    "\"\"\"\n",
    "DON'T MODIFY ANYTHING IN THIS CELL THAT IS BELOW THIS LINE\n",
    "\"\"\"\n",
    "tests.test_train_nn(train_neural_network)"
   ]
  },
  {
   "cell_type": "markdown",
   "metadata": {},
   "source": [
    "### Show Stats\n",
    "Implement the function `print_stats` to print loss and validation accuracy.  Use the global variables `valid_features` and `valid_labels` to calculate validation accuracy.  Use a keep probability of `1.0` to calculate the loss and validation accuracy."
   ]
  },
  {
   "cell_type": "code",
   "execution_count": 44,
   "metadata": {
    "collapsed": true
   },
   "outputs": [],
   "source": [
    "def print_stats(session, feature_batch, label_batch, cost, accuracy):\n",
    "    \"\"\"\n",
    "    Print information about loss and validation accuracy\n",
    "    : session: Current TensorFlow session\n",
    "    : feature_batch: Batch of Numpy image data\n",
    "    : label_batch: Batch of Numpy label data\n",
    "    : cost: TensorFlow cost function\n",
    "    : accuracy: TensorFlow accuracy function\n",
    "    \"\"\"\n",
    "    drop_keep_prob = 1.0\n",
    "    \n",
    "    loss = sess.run( cost, feed_dict = { x:  feature_batch, \n",
    "                                         y:    label_batch, \n",
    "                                         keep_prob: drop_keep_prob })\n",
    "    print( \"Loss = \", loss)\n",
    "    \n",
    "    val_acc = sess.run(accuracy, feed_dict={ x:  valid_features, \n",
    "                                             y:    valid_labels, \n",
    "                                             keep_prob: drop_keep_prob })\n",
    "    \n",
    "    print( \"Validation accuracy = \", val_acc)\n",
    "         "
   ]
  },
  {
   "cell_type": "markdown",
   "metadata": {},
   "source": [
    "### Hyperparameters\n",
    "Tune the following parameters:\n",
    "* Set `epochs` to the number of iterations until the network stops learning or start overfitting\n",
    "* Set `batch_size` to the highest number that your machine has memory for.  Most people set them to common sizes of memory:\n",
    " * 64\n",
    " * 128\n",
    " * 256\n",
    " * ...\n",
    "* Set `keep_probability` to the probability of keeping a node using dropout"
   ]
  },
  {
   "cell_type": "code",
   "execution_count": 46,
   "metadata": {
    "collapsed": true
   },
   "outputs": [],
   "source": [
    "# TODO: Tune Parameters\n",
    "epochs = 50\n",
    "batch_size = 4096\n",
    "keep_probability = 0.50"
   ]
  },
  {
   "cell_type": "markdown",
   "metadata": {},
   "source": [
    "### Train on a Single CIFAR-10 Batch\n",
    "Instead of training the neural network on all the CIFAR-10 batches of data, let's use a single batch. This should save time while you iterate on the model to get a better accuracy.  Once the final validation accuracy is 50% or greater, run the model on all the data in the next section."
   ]
  },
  {
   "cell_type": "code",
   "execution_count": 47,
   "metadata": {},
   "outputs": [
    {
     "name": "stdout",
     "output_type": "stream",
     "text": [
      "Checking the Training on a Single Batch...\n",
      "Epoch  1, CIFAR-10 Batch 1:  Loss =  2.42068\n",
      "Validation accuracy =  0.1096\n",
      "Epoch  2, CIFAR-10 Batch 1:  Loss =  2.30381\n",
      "Validation accuracy =  0.097\n",
      "Epoch  3, CIFAR-10 Batch 1:  Loss =  2.30245\n",
      "Validation accuracy =  0.1032\n",
      "Epoch  4, CIFAR-10 Batch 1:  Loss =  2.30271\n",
      "Validation accuracy =  0.0946\n",
      "Epoch  5, CIFAR-10 Batch 1:  Loss =  2.30273\n",
      "Validation accuracy =  0.0946\n",
      "Epoch  6, CIFAR-10 Batch 1:  Loss =  2.30273\n",
      "Validation accuracy =  0.0946\n",
      "Epoch  7, CIFAR-10 Batch 1:  Loss =  2.30273\n",
      "Validation accuracy =  0.0946\n",
      "Epoch  8, CIFAR-10 Batch 1:  Loss =  2.30272\n",
      "Validation accuracy =  0.0946\n",
      "Epoch  9, CIFAR-10 Batch 1:  Loss =  2.3027\n",
      "Validation accuracy =  0.0946\n",
      "Epoch 10, CIFAR-10 Batch 1:  Loss =  2.30268\n",
      "Validation accuracy =  0.0946\n",
      "Epoch 11, CIFAR-10 Batch 1:  Loss =  2.30266\n",
      "Validation accuracy =  0.0946\n",
      "Epoch 12, CIFAR-10 Batch 1:  Loss =  2.30263\n",
      "Validation accuracy =  0.0946\n",
      "Epoch 13, CIFAR-10 Batch 1:  Loss =  2.3026\n",
      "Validation accuracy =  0.0946\n",
      "Epoch 14, CIFAR-10 Batch 1:  Loss =  2.30257\n",
      "Validation accuracy =  0.0946\n",
      "Epoch 15, CIFAR-10 Batch 1:  Loss =  2.30254\n",
      "Validation accuracy =  0.0998\n",
      "Epoch 16, CIFAR-10 Batch 1:  Loss =  2.30251\n",
      "Validation accuracy =  0.0998\n",
      "Epoch 17, CIFAR-10 Batch 1:  Loss =  2.30247\n",
      "Validation accuracy =  0.0998\n",
      "Epoch 18, CIFAR-10 Batch 1:  Loss =  2.30244\n",
      "Validation accuracy =  0.0998\n",
      "Epoch 19, CIFAR-10 Batch 1:  Loss =  2.30241\n",
      "Validation accuracy =  0.0998\n",
      "Epoch 20, CIFAR-10 Batch 1:  Loss =  2.30237\n",
      "Validation accuracy =  0.0998\n",
      "Epoch 21, CIFAR-10 Batch 1:  Loss =  2.30234\n",
      "Validation accuracy =  0.0998\n",
      "Epoch 22, CIFAR-10 Batch 1:  Loss =  2.30231\n",
      "Validation accuracy =  0.0998\n",
      "Epoch 23, CIFAR-10 Batch 1:  Loss =  2.30227\n",
      "Validation accuracy =  0.0998\n",
      "Epoch 24, CIFAR-10 Batch 1:  Loss =  2.30224\n",
      "Validation accuracy =  0.0998\n",
      "Epoch 25, CIFAR-10 Batch 1:  Loss =  2.30221\n",
      "Validation accuracy =  0.105\n",
      "Epoch 26, CIFAR-10 Batch 1:  Loss =  2.30218\n",
      "Validation accuracy =  0.105\n",
      "Epoch 27, CIFAR-10 Batch 1:  Loss =  2.30215\n",
      "Validation accuracy =  0.105\n",
      "Epoch 28, CIFAR-10 Batch 1:  Loss =  2.30212\n",
      "Validation accuracy =  0.105\n",
      "Epoch 29, CIFAR-10 Batch 1:  Loss =  2.30208\n",
      "Validation accuracy =  0.105\n",
      "Epoch 30, CIFAR-10 Batch 1:  Loss =  2.30205\n",
      "Validation accuracy =  0.105\n",
      "Epoch 31, CIFAR-10 Batch 1:  Loss =  2.30202\n",
      "Validation accuracy =  0.105\n",
      "Epoch 32, CIFAR-10 Batch 1:  Loss =  2.30199\n",
      "Validation accuracy =  0.105\n",
      "Epoch 33, CIFAR-10 Batch 1:  Loss =  2.30196\n",
      "Validation accuracy =  0.105\n",
      "Epoch 34, CIFAR-10 Batch 1:  Loss =  2.30194\n",
      "Validation accuracy =  0.105\n",
      "Epoch 35, CIFAR-10 Batch 1:  Loss =  2.30191\n",
      "Validation accuracy =  0.105\n",
      "Epoch 36, CIFAR-10 Batch 1:  Loss =  2.30188\n",
      "Validation accuracy =  0.105\n",
      "Epoch 37, CIFAR-10 Batch 1:  Loss =  2.30186\n",
      "Validation accuracy =  0.105\n",
      "Epoch 38, CIFAR-10 Batch 1:  Loss =  2.30183\n",
      "Validation accuracy =  0.105\n",
      "Epoch 39, CIFAR-10 Batch 1:  Loss =  2.30181\n",
      "Validation accuracy =  0.105\n",
      "Epoch 40, CIFAR-10 Batch 1:  Loss =  2.30178\n",
      "Validation accuracy =  0.105\n",
      "Epoch 41, CIFAR-10 Batch 1:  Loss =  2.30176\n",
      "Validation accuracy =  0.105\n",
      "Epoch 42, CIFAR-10 Batch 1:  Loss =  2.30173\n",
      "Validation accuracy =  0.105\n",
      "Epoch 43, CIFAR-10 Batch 1:  Loss =  2.30171\n",
      "Validation accuracy =  0.105\n",
      "Epoch 44, CIFAR-10 Batch 1:  Loss =  2.30169\n",
      "Validation accuracy =  0.105\n",
      "Epoch 45, CIFAR-10 Batch 1:  Loss =  2.30166\n",
      "Validation accuracy =  0.105\n",
      "Epoch 46, CIFAR-10 Batch 1:  Loss =  2.30164\n",
      "Validation accuracy =  0.105\n",
      "Epoch 47, CIFAR-10 Batch 1:  Loss =  2.30162\n",
      "Validation accuracy =  0.105\n",
      "Epoch 48, CIFAR-10 Batch 1:  Loss =  2.3016\n",
      "Validation accuracy =  0.105\n",
      "Epoch 49, CIFAR-10 Batch 1:  Loss =  2.30158\n",
      "Validation accuracy =  0.105\n",
      "Epoch 50, CIFAR-10 Batch 1:  Loss =  2.30156\n",
      "Validation accuracy =  0.105\n"
     ]
    }
   ],
   "source": [
    "\"\"\"\n",
    "DON'T MODIFY ANYTHING IN THIS CELL\n",
    "\"\"\"\n",
    "print('Checking the Training on a Single Batch...')\n",
    "with tf.Session() as sess:\n",
    "    # Initializing the variables\n",
    "    sess.run(tf.global_variables_initializer())\n",
    "    \n",
    "    # Training cycle\n",
    "    for epoch in range(epochs):\n",
    "        batch_i = 1\n",
    "        for batch_features, batch_labels in helper.load_preprocess_training_batch(batch_i, batch_size):\n",
    "            train_neural_network(sess, optimizer, keep_probability, batch_features, batch_labels)\n",
    "        print('Epoch {:>2}, CIFAR-10 Batch {}:  '.format(epoch + 1, batch_i), end='')\n",
    "        print_stats(sess, batch_features, batch_labels, cost, accuracy)"
   ]
  },
  {
   "cell_type": "markdown",
   "metadata": {},
   "source": [
    "### Fully Train the Model\n",
    "Now that you got a good accuracy with a single CIFAR-10 batch, try it with all five batches."
   ]
  },
  {
   "cell_type": "code",
   "execution_count": null,
   "metadata": {
    "collapsed": true
   },
   "outputs": [],
   "source": [
    "\"\"\"\n",
    "DON'T MODIFY ANYTHING IN THIS CELL\n",
    "\"\"\"\n",
    "save_model_path = './image_classification'\n",
    "\n",
    "print('Training...')\n",
    "with tf.Session() as sess:\n",
    "    # Initializing the variables\n",
    "    sess.run(tf.global_variables_initializer())\n",
    "    \n",
    "    # Training cycle\n",
    "    for epoch in range(epochs):\n",
    "        # Loop over all batches\n",
    "        n_batches = 5\n",
    "        for batch_i in range(1, n_batches + 1):\n",
    "            for batch_features, batch_labels in helper.load_preprocess_training_batch(batch_i, batch_size):\n",
    "                train_neural_network(sess, optimizer, keep_probability, batch_features, batch_labels)\n",
    "            print('Epoch {:>2}, CIFAR-10 Batch {}:  '.format(epoch + 1, batch_i), end='')\n",
    "            print_stats(sess, batch_features, batch_labels, cost, accuracy)\n",
    "            \n",
    "    # Save Model\n",
    "    saver = tf.train.Saver()\n",
    "    save_path = saver.save(sess, save_model_path)"
   ]
  },
  {
   "cell_type": "markdown",
   "metadata": {},
   "source": [
    "# Checkpoint\n",
    "The model has been saved to disk.\n",
    "## Test Model\n",
    "Test your model against the test dataset.  This will be your final accuracy. You should have an accuracy greater than 50%. If you don't, keep tweaking the model architecture and parameters."
   ]
  },
  {
   "cell_type": "code",
   "execution_count": null,
   "metadata": {
    "collapsed": true
   },
   "outputs": [],
   "source": [
    "\"\"\"\n",
    "DON'T MODIFY ANYTHING IN THIS CELL\n",
    "\"\"\"\n",
    "%matplotlib inline\n",
    "%config InlineBackend.figure_format = 'retina'\n",
    "\n",
    "import tensorflow as tf\n",
    "import pickle\n",
    "import helper\n",
    "import random\n",
    "\n",
    "# Set batch size if not already set\n",
    "try:\n",
    "    if batch_size:\n",
    "        pass\n",
    "except NameError:\n",
    "    batch_size = 64\n",
    "\n",
    "save_model_path = './image_classification'\n",
    "n_samples = 4\n",
    "top_n_predictions = 3\n",
    "\n",
    "def test_model():\n",
    "    \"\"\"\n",
    "    Test the saved model against the test dataset\n",
    "    \"\"\"\n",
    "\n",
    "    test_features, test_labels = pickle.load(open('preprocess_test.p', mode='rb'))\n",
    "    loaded_graph = tf.Graph()\n",
    "\n",
    "    with tf.Session(graph=loaded_graph) as sess:\n",
    "        # Load model\n",
    "        loader = tf.train.import_meta_graph(save_model_path + '.meta')\n",
    "        loader.restore(sess, save_model_path)\n",
    "\n",
    "        # Get Tensors from loaded model\n",
    "        loaded_x = loaded_graph.get_tensor_by_name('x:0')\n",
    "        loaded_y = loaded_graph.get_tensor_by_name('y:0')\n",
    "        loaded_keep_prob = loaded_graph.get_tensor_by_name('keep_prob:0')\n",
    "        loaded_logits = loaded_graph.get_tensor_by_name('logits:0')\n",
    "        loaded_acc = loaded_graph.get_tensor_by_name('accuracy:0')\n",
    "        \n",
    "        # Get accuracy in batches for memory limitations\n",
    "        test_batch_acc_total = 0\n",
    "        test_batch_count = 0\n",
    "        \n",
    "        for test_feature_batch, test_label_batch in helper.batch_features_labels(test_features, test_labels, batch_size):\n",
    "            test_batch_acc_total += sess.run(\n",
    "                loaded_acc,\n",
    "                feed_dict={loaded_x: test_feature_batch, loaded_y: test_label_batch, loaded_keep_prob: 1.0})\n",
    "            test_batch_count += 1\n",
    "\n",
    "        print('Testing Accuracy: {}\\n'.format(test_batch_acc_total/test_batch_count))\n",
    "\n",
    "        # Print Random Samples\n",
    "        random_test_features, random_test_labels = tuple(zip(*random.sample(list(zip(test_features, test_labels)), n_samples)))\n",
    "        random_test_predictions = sess.run(\n",
    "            tf.nn.top_k(tf.nn.softmax(loaded_logits), top_n_predictions),\n",
    "            feed_dict={loaded_x: random_test_features, loaded_y: random_test_labels, loaded_keep_prob: 1.0})\n",
    "        helper.display_image_predictions(random_test_features, random_test_labels, random_test_predictions)\n",
    "\n",
    "\n",
    "test_model()"
   ]
  },
  {
   "cell_type": "markdown",
   "metadata": {},
   "source": [
    "## Why 50-80% Accuracy?\n",
    "You might be wondering why you can't get an accuracy any higher. First things first, 50% isn't bad for a simple CNN.  Pure guessing would get you 10% accuracy. However, you might notice people are getting scores [well above 80%](http://rodrigob.github.io/are_we_there_yet/build/classification_datasets_results.html#43494641522d3130).  That's because we haven't taught you all there is to know about neural networks. We still need to cover a few more techniques.\n",
    "## Submitting This Project\n",
    "When submitting this project, make sure to run all the cells before saving the notebook.  Save the notebook file as \"dlnd_image_classification.ipynb\" and save it as a HTML file under \"File\" -> \"Download as\".  Include the \"helper.py\" and \"problem_unittests.py\" files in your submission."
   ]
  }
 ],
 "metadata": {
  "kernelspec": {
   "display_name": "Python 3",
   "language": "python",
   "name": "python3"
  },
  "language_info": {
   "codemirror_mode": {
    "name": "ipython",
    "version": 3
   },
   "file_extension": ".py",
   "mimetype": "text/x-python",
   "name": "python",
   "nbconvert_exporter": "python",
   "pygments_lexer": "ipython3",
   "version": "3.5.4"
  }
 },
 "nbformat": 4,
 "nbformat_minor": 1
}
